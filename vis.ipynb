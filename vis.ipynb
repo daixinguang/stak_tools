{
 "cells": [
  {
   "cell_type": "code",
   "execution_count": 2,
   "metadata": {},
   "outputs": [],
   "source": [
    "import matplotlib.pyplot as plt\n",
    "import pandas as pd"
   ]
  },
  {
   "cell_type": "code",
   "execution_count": null,
   "metadata": {},
   "outputs": [],
   "source": [
    "plt.plot()"
   ]
  },
  {
   "cell_type": "code",
   "execution_count": 12,
   "metadata": {},
   "outputs": [],
   "source": [
    "columns_carinfo = ['frame', 'pose-velocity', 'Sensor-velocity', 'Sensor-adjustVelocity', 'Sensor-predictEgoSpeed', 'Ori-yawrate', 'pose-yawrate', 'Sensor-yawrate', 'Sensor-adjustYawRate', 'adjustFlag', 'wheelAngle', 'Sensor-vx', 'Sensor-vy', 'pose-ax', 'pose-ay']\n",
    "data_pd = pd.DataFrame(columns=columns_carinfo)"
   ]
  },
  {
   "cell_type": "code",
   "execution_count": 13,
   "metadata": {},
   "outputs": [
    {
     "data": {
      "text/html": [
       "<div>\n",
       "<style scoped>\n",
       "    .dataframe tbody tr th:only-of-type {\n",
       "        vertical-align: middle;\n",
       "    }\n",
       "\n",
       "    .dataframe tbody tr th {\n",
       "        vertical-align: top;\n",
       "    }\n",
       "\n",
       "    .dataframe thead th {\n",
       "        text-align: right;\n",
       "    }\n",
       "</style>\n",
       "<table border=\"1\" class=\"dataframe\">\n",
       "  <thead>\n",
       "    <tr style=\"text-align: right;\">\n",
       "      <th></th>\n",
       "      <th>frame</th>\n",
       "      <th>pose-velocity</th>\n",
       "      <th>Sensor-velocity</th>\n",
       "      <th>Sensor-adjustVelocity</th>\n",
       "      <th>Sensor-predictEgoSpeed</th>\n",
       "      <th>Ori-yawrate</th>\n",
       "      <th>pose-yawrate</th>\n",
       "      <th>Sensor-yawrate</th>\n",
       "      <th>Sensor-adjustYawRate</th>\n",
       "      <th>adjustFlag</th>\n",
       "      <th>wheelAngle</th>\n",
       "      <th>Sensor-vx</th>\n",
       "      <th>Sensor-vy</th>\n",
       "      <th>pose-ax</th>\n",
       "      <th>pose-ay</th>\n",
       "    </tr>\n",
       "  </thead>\n",
       "  <tbody>\n",
       "  </tbody>\n",
       "</table>\n",
       "</div>"
      ],
      "text/plain": [
       "Empty DataFrame\n",
       "Columns: [frame, pose-velocity, Sensor-velocity, Sensor-adjustVelocity, Sensor-predictEgoSpeed, Ori-yawrate, pose-yawrate, Sensor-yawrate, Sensor-adjustYawRate, adjustFlag, wheelAngle, Sensor-vx, Sensor-vy, pose-ax, pose-ay]\n",
       "Index: []"
      ]
     },
     "execution_count": 13,
     "metadata": {},
     "output_type": "execute_result"
    }
   ],
   "source": [
    "data_pd"
   ]
  },
  {
   "cell_type": "code",
   "execution_count": 5,
   "metadata": {},
   "outputs": [],
   "source": [
    "data = \"1691 \t8.32 \t8.19 \t8.32 \t8.39 \t0.26 \t0.26 \t0.26 \t0.26 \t1 \t8.50 \t-8.19 \t-0.02 \t0.71 \t0.04 \t\"\n",
    "data_list = data.split()"
   ]
  },
  {
   "cell_type": "code",
   "execution_count": 14,
   "metadata": {},
   "outputs": [
    {
     "data": {
      "text/html": [
       "<div>\n",
       "<style scoped>\n",
       "    .dataframe tbody tr th:only-of-type {\n",
       "        vertical-align: middle;\n",
       "    }\n",
       "\n",
       "    .dataframe tbody tr th {\n",
       "        vertical-align: top;\n",
       "    }\n",
       "\n",
       "    .dataframe thead th {\n",
       "        text-align: right;\n",
       "    }\n",
       "</style>\n",
       "<table border=\"1\" class=\"dataframe\">\n",
       "  <thead>\n",
       "    <tr style=\"text-align: right;\">\n",
       "      <th></th>\n",
       "      <th>frame</th>\n",
       "      <th>pose-velocity</th>\n",
       "      <th>Sensor-velocity</th>\n",
       "      <th>Sensor-adjustVelocity</th>\n",
       "      <th>Sensor-predictEgoSpeed</th>\n",
       "      <th>Ori-yawrate</th>\n",
       "      <th>pose-yawrate</th>\n",
       "      <th>Sensor-yawrate</th>\n",
       "      <th>Sensor-adjustYawRate</th>\n",
       "      <th>adjustFlag</th>\n",
       "      <th>wheelAngle</th>\n",
       "      <th>Sensor-vx</th>\n",
       "      <th>Sensor-vy</th>\n",
       "      <th>pose-ax</th>\n",
       "      <th>pose-ay</th>\n",
       "    </tr>\n",
       "  </thead>\n",
       "  <tbody>\n",
       "    <tr>\n",
       "      <th>0</th>\n",
       "      <td>1691</td>\n",
       "      <td>8.32</td>\n",
       "      <td>8.19</td>\n",
       "      <td>8.32</td>\n",
       "      <td>8.39</td>\n",
       "      <td>0.26</td>\n",
       "      <td>0.26</td>\n",
       "      <td>0.26</td>\n",
       "      <td>0.26</td>\n",
       "      <td>1</td>\n",
       "      <td>8.50</td>\n",
       "      <td>-8.19</td>\n",
       "      <td>-0.02</td>\n",
       "      <td>0.71</td>\n",
       "      <td>0.04</td>\n",
       "    </tr>\n",
       "  </tbody>\n",
       "</table>\n",
       "</div>"
      ],
      "text/plain": [
       "  frame pose-velocity Sensor-velocity Sensor-adjustVelocity  \\\n",
       "0  1691          8.32            8.19                  8.32   \n",
       "\n",
       "  Sensor-predictEgoSpeed Ori-yawrate pose-yawrate Sensor-yawrate  \\\n",
       "0                   8.39        0.26         0.26           0.26   \n",
       "\n",
       "  Sensor-adjustYawRate adjustFlag wheelAngle Sensor-vx Sensor-vy pose-ax  \\\n",
       "0                 0.26          1       8.50     -8.19     -0.02    0.71   \n",
       "\n",
       "  pose-ay  \n",
       "0    0.04  "
      ]
     },
     "execution_count": 14,
     "metadata": {},
     "output_type": "execute_result"
    }
   ],
   "source": [
    "pd.concat([data_pd,pd.DataFrame([data_list], columns=columns_carinfo)], ignore_index=True)"
   ]
  }
 ],
 "metadata": {
  "kernelspec": {
   "display_name": "python312",
   "language": "python",
   "name": "python3"
  },
  "language_info": {
   "codemirror_mode": {
    "name": "ipython",
    "version": 3
   },
   "file_extension": ".py",
   "mimetype": "text/x-python",
   "name": "python",
   "nbconvert_exporter": "python",
   "pygments_lexer": "ipython3",
   "version": "3.12.5"
  }
 },
 "nbformat": 4,
 "nbformat_minor": 2
}
